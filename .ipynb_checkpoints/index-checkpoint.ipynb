{
 "cells": [
  {
   "cell_type": "markdown",
   "id": "59a9f05a-dfb4-4555-a2c0-ea271186c165",
   "metadata": {},
   "source": [
    "# Deployment"
   ]
  },
  {
   "cell_type": "markdown",
   "id": "cb1600b4-9a4b-4233-9686-947386fbf88d",
   "metadata": {},
   "source": [
    "Let's say I have developed a model, and would like to deploy it so the model can be used by other people. "
   ]
  },
  {
   "cell_type": "code",
   "execution_count": 60,
   "id": "425450dd-4134-42c2-9676-6b000ef4cb28",
   "metadata": {},
   "outputs": [],
   "source": [
    "# Standard Imports\n",
    "import pandas as pd\n",
    "import matplotlib.pyplot as plt\n",
    "\n",
    "# Model Development\n",
    "from sklearn.linear_model import LogisticRegression\n",
    "from sklearn.model_selection import train_test_split\n",
    "from sklearn.metrics import plot_confusion_matrix\n",
    "from sklearn.feature_selection import SequentialFeatureSelector\n",
    "\n",
    "# Stock Data\n",
    "from sklearn.datasets import load_iris"
   ]
  },
  {
   "cell_type": "code",
   "execution_count": 61,
   "id": "4e2ba085-97e8-4a1b-bc46-7b256019ae3d",
   "metadata": {},
   "outputs": [
    {
     "data": {
      "text/html": [
       "<div>\n",
       "<style scoped>\n",
       "    .dataframe tbody tr th:only-of-type {\n",
       "        vertical-align: middle;\n",
       "    }\n",
       "\n",
       "    .dataframe tbody tr th {\n",
       "        vertical-align: top;\n",
       "    }\n",
       "\n",
       "    .dataframe thead th {\n",
       "        text-align: right;\n",
       "    }\n",
       "</style>\n",
       "<table border=\"1\" class=\"dataframe\">\n",
       "  <thead>\n",
       "    <tr style=\"text-align: right;\">\n",
       "      <th></th>\n",
       "      <th>sepal length (cm)</th>\n",
       "      <th>sepal width (cm)</th>\n",
       "      <th>petal length (cm)</th>\n",
       "      <th>petal width (cm)</th>\n",
       "      <th>target</th>\n",
       "    </tr>\n",
       "  </thead>\n",
       "  <tbody>\n",
       "    <tr>\n",
       "      <th>0</th>\n",
       "      <td>5.1</td>\n",
       "      <td>3.5</td>\n",
       "      <td>1.4</td>\n",
       "      <td>0.2</td>\n",
       "      <td>0</td>\n",
       "    </tr>\n",
       "    <tr>\n",
       "      <th>1</th>\n",
       "      <td>4.9</td>\n",
       "      <td>3.0</td>\n",
       "      <td>1.4</td>\n",
       "      <td>0.2</td>\n",
       "      <td>0</td>\n",
       "    </tr>\n",
       "    <tr>\n",
       "      <th>2</th>\n",
       "      <td>4.7</td>\n",
       "      <td>3.2</td>\n",
       "      <td>1.3</td>\n",
       "      <td>0.2</td>\n",
       "      <td>0</td>\n",
       "    </tr>\n",
       "    <tr>\n",
       "      <th>3</th>\n",
       "      <td>4.6</td>\n",
       "      <td>3.1</td>\n",
       "      <td>1.5</td>\n",
       "      <td>0.2</td>\n",
       "      <td>0</td>\n",
       "    </tr>\n",
       "    <tr>\n",
       "      <th>4</th>\n",
       "      <td>5.0</td>\n",
       "      <td>3.6</td>\n",
       "      <td>1.4</td>\n",
       "      <td>0.2</td>\n",
       "      <td>0</td>\n",
       "    </tr>\n",
       "  </tbody>\n",
       "</table>\n",
       "</div>"
      ],
      "text/plain": [
       "   sepal length (cm)  sepal width (cm)  petal length (cm)  petal width (cm)  \\\n",
       "0                5.1               3.5                1.4               0.2   \n",
       "1                4.9               3.0                1.4               0.2   \n",
       "2                4.7               3.2                1.3               0.2   \n",
       "3                4.6               3.1                1.5               0.2   \n",
       "4                5.0               3.6                1.4               0.2   \n",
       "\n",
       "   target  \n",
       "0       0  \n",
       "1       0  \n",
       "2       0  \n",
       "3       0  \n",
       "4       0  "
      ]
     },
     "execution_count": 61,
     "metadata": {},
     "output_type": "execute_result"
    }
   ],
   "source": [
    "data = load_iris()\n",
    "df = pd.DataFrame(data.data, columns=data.feature_names)\n",
    "df['target'] = data.target\n",
    "\n",
    "df.head()"
   ]
  },
  {
   "cell_type": "code",
   "execution_count": 62,
   "id": "444ed9b6-664f-42a3-9a99-d29bfc4e6aff",
   "metadata": {},
   "outputs": [],
   "source": [
    "X = df.drop('target', axis=1)\n",
    "y = df.target"
   ]
  },
  {
   "cell_type": "code",
   "execution_count": 63,
   "id": "d2ccb613-b226-4c3a-8ad0-937e25d6fdcd",
   "metadata": {},
   "outputs": [
    {
     "data": {
      "text/plain": [
       "SequentialFeatureSelector(estimator=LogisticRegression(penalty='none'),\n",
       "                          n_features_to_select=2)"
      ]
     },
     "execution_count": 63,
     "metadata": {},
     "output_type": "execute_result"
    }
   ],
   "source": [
    "model = LogisticRegression(penalty='none')\n",
    "\n",
    "sfs = SequentialFeatureSelector(model, n_features_to_select=2)\n",
    "sfs.fit(X, y)"
   ]
  },
  {
   "cell_type": "code",
   "execution_count": 64,
   "id": "eada56b6-305d-4e5b-b538-6fca77abf253",
   "metadata": {},
   "outputs": [
    {
     "data": {
      "text/plain": [
       "array([False,  True, False,  True])"
      ]
     },
     "execution_count": 64,
     "metadata": {},
     "output_type": "execute_result"
    }
   ],
   "source": [
    "sfs.get_support()"
   ]
  },
  {
   "cell_type": "code",
   "execution_count": 65,
   "id": "208c7ecb-8e97-4c18-beb8-62602101b957",
   "metadata": {},
   "outputs": [
    {
     "data": {
      "text/plain": [
       "Index(['sepal width (cm)', 'petal width (cm)'], dtype='object')"
      ]
     },
     "execution_count": 65,
     "metadata": {},
     "output_type": "execute_result"
    }
   ],
   "source": [
    "X.columns[sfs.get_support()]"
   ]
  },
  {
   "cell_type": "code",
   "execution_count": 66,
   "id": "3f416430-5692-4713-bce6-4332ab12c431",
   "metadata": {},
   "outputs": [
    {
     "data": {
      "text/plain": [
       "array([[3.5, 0.2],\n",
       "       [3. , 0.2],\n",
       "       [3.2, 0.2],\n",
       "       [3.1, 0.2],\n",
       "       [3.6, 0.2]])"
      ]
     },
     "execution_count": 66,
     "metadata": {},
     "output_type": "execute_result"
    }
   ],
   "source": [
    "sfs.transform(X)[:5]"
   ]
  },
  {
   "cell_type": "code",
   "execution_count": 67,
   "id": "18313d8b-769a-4735-85b5-dc7c3538192e",
   "metadata": {},
   "outputs": [
    {
     "data": {
      "image/png": "[encoded data removed]",
      "text/plain": [
       "<Figure size 1440x432 with 4 Axes>"
      ]
     },
     "metadata": {
      "needs_background": "light"
     },
     "output_type": "display_data"
    }
   ],
   "source": [
    "X_subset = sfs.transform(X)\n",
    "\n",
    "X_train, X_test, y_train, y_test = train_test_split(X_subset, y)\n",
    "\n",
    "model.fit(X_train, y_train)\n",
    "\n",
    "fig, axes = plt.subplots(1,2, figsize=(20,6))\n",
    "\n",
    "plot_confusion_matrix(model, X_train, y_train, ax=axes[0])\n",
    "plot_confusion_matrix(model, X_test, y_test, ax=axes[1])\n",
    "\n",
    "axes[0].set_title('Training', fontsize=20)\n",
    "axes[1].set_title('Testing', fontsize=20);"
   ]
  },
  {
   "cell_type": "markdown",
   "id": "4990c6a9-c78a-4311-ba80-d06c11e74a05",
   "metadata": {},
   "source": [
    "### Fit model to all available data"
   ]
  },
  {
   "cell_type": "code",
   "execution_count": 68,
   "id": "bb3114a4-fcfb-41f8-a5bb-31a36e8f75fc",
   "metadata": {},
   "outputs": [],
   "source": [
    "final_model = model.fit(X_subset, y)"
   ]
  },
  {
   "cell_type": "markdown",
   "id": "1fdfb706-b35d-433d-a33b-4e0ef33b8da7",
   "metadata": {},
   "source": [
    "### Pickle final model"
   ]
  },
  {
   "cell_type": "code",
   "execution_count": 69,
   "id": "dec96ff9-af50-4bc8-ab98-b136dc495f11",
   "metadata": {},
   "outputs": [],
   "source": [
    "import pickle\n",
    "\n",
    "file = open('final_model.pkl', 'wb')\n",
    "pickle.dump(final_model, file)\n",
    "file.close()"
   ]
  },
  {
   "cell_type": "markdown",
   "id": "64e8bd68-79ad-45cb-b0a8-7e9dfc497b67",
   "metadata": {},
   "source": [
    "### Now what?"
   ]
  },
  {
   "cell_type": "markdown",
   "id": "1eefc978-3ff8-4fd1-b66a-09f8a07635e2",
   "metadata": {},
   "source": [
    "# Deployment Patterns\n",
    "\n",
    "> The following is a breakdown of existing deployment patterns, via Data Scientist Andrew Ng's MlOps MOOC"
   ]
  },
  {
   "cell_type": "markdown",
   "id": "f2b764ad-7b03-4c62-9c13-e6b64e97a6b0",
   "metadata": {},
   "source": [
    "**Some common themes:**\n",
    "- Deployments are usually ramped up over time.\n",
    "- Monitoring performance is key part of production level deployment.\n",
    "- Good deployment strategies include the ability to rollback to a previous model.\n",
    "\n",
    "\n",
    "### Shadow Deployment\n",
    "\n",
    "- Model shadows a human worker and generates predictions in parallel\n",
    "- The outcome does not utilize the model's predictions.\n",
    "- This deployment pattern serves a further evaluation of the model by collecting new labels on out of sample data and comparing them with your model's predictions. \n",
    "\n",
    "###  Canary Deployment\n",
    "\n",
    "- The model is applied to a small percent of traffic.\n",
    "- The model is monitored via specified metrics and is ramped up over time. \n",
    "\n",
    "\n",
    "### Blue Green Deploymenr\n",
    "\n",
    "- `Blue` represents a currently deployed model that you would like to replace\n",
    "- `Green` represents a new model\n",
    "- Both `Blue` and `Green` are running on their own webservice/api.\n",
    "- Using this deployment pattern allows you to easily reroute the data from one model to another. When something goes wrong with a model, it is very easy to default back to a simpler model with more reliable predictions. "
   ]
  },
  {
   "cell_type": "markdown",
   "id": "45190e87-d991-4607-8420-decb0dcf5c71",
   "metadata": {},
   "source": [
    "## Degrees of Automation"
   ]
  },
  {
   "cell_type": "markdown",
   "id": "1fe7b51e-dda5-40a3-b466-2223957c899e",
   "metadata": {},
   "source": [
    "### Human only\n",
    "\n",
    "No model is used. All decisions are manually generated via human workers. \n",
    "\n",
    "### Shadow Mode\n",
    "\n",
    "The model is run in the background and does not impact the outcome.\n",
    "\n",
    "### AI Assistance\n",
    "\n",
    "The model does not make the final decision, but provides assistance to a human worker who makes the decision. Examples could be \n",
    "- Providing their prediction to the worker (Autocomplete).\n",
    "- Highlighting parts of image that are likely relevant to a decision.\n",
    "- Suggesting relevant resources to a worker. \n",
    "\n",
    "### Partial Deployment\n",
    "\n",
    "The model's predictions are used to make a decision only when the model is a certain degree of confidence. When the model's confidence is low, the decision is given to a human worker. \n",
    "\n",
    "\n",
    "### Full Automation\n",
    "\n",
    "There is no human worker involved in the decision process."
   ]
  },
  {
   "cell_type": "markdown",
   "id": "e8a43a29-6e58-4689-905a-472d21c84863",
   "metadata": {},
   "source": [
    "## Metrics\n",
    "\n",
    "Model analysis does not end once the model has been deployed. A full deployment usually involes setting up a data collection pipeline to monitor inputs, outputs, and activity of your model.\n",
    "\n",
    "These metrics tend to be highly customized for whatever the data that being inputted and the problem the model is addressing. \n",
    "\n",
    "**Example metrics:**\n",
    "\n",
    "- Server load\n",
    "- Descriptive statistics about the inputs and outputs\n",
    "    - How do the distributions of the inputs features compare to the distributions the model was trained on?\n",
    "    - Brightness of the images\n",
    "    - Magnitudes of numerical inputs\n",
    "    - Frequency of categoricals\n",
    "    - How frequently does your model produce a confidence result?\n",
    "    - Does the model's output distribution reflect the expected distribution?\n",
    "- User results\n",
    "    - Did they add the item to their cart\n",
    "    - Did the use the word recommended to them?\n",
    "    - Did they use the product from beginning to end or did the leave the website prematurely\n",
    "    - Did the default to typing their question instead of your model interpreting their speech?\n",
    "    \n",
    " "
   ]
  },
  {
   "cell_type": "markdown",
   "id": "a77cf064-5860-4713-aa3b-a87288a25251",
   "metadata": {},
   "source": [
    "#### Intro to Flask\n",
    "\n",
    "Flask ([Documentation](https://flask.palletsprojects.com/en/2.0.x/)) is a light weight python framework for developing apis and even [full blown websites](https://blog.miguelgrinberg.com/post/the-flask-mega-tutorial-part-i-hello-world). It is a very popular framework used in the data science community because of it's simplicity. \n",
    "\n",
    "\n"
   ]
  },
  {
   "cell_type": "code",
   "execution_count": 56,
   "id": "57758364-eb51-45a9-8898-56b953f92f96",
   "metadata": {},
   "outputs": [
    {
     "name": "stdout",
     "output_type": "stream",
     "text": [
      "Serving on http://0.0.0.0:5000\n"
     ]
    }
   ],
   "source": [
    "from flask import Flask\n",
    "\n",
    "app = Flask(__name__)\n",
    "\n",
    "# This is\n",
    "@app.route(\"/\")\n",
    "def hello_world():\n",
    "    return \"<p>Hello, World!</p>\"\n",
    "\n",
    "@app.route(\"/<name>\")\n",
    "def hello_name(name):\n",
    "    return f\"<p>Hello, {name}!</p>\"\n",
    "\n",
    "from waitress import serve\n",
    "serve(app, host='0.0.0.0', port=5000)"
   ]
  },
  {
   "cell_type": "markdown",
   "id": "157ca2a1-a4c4-4e37-86d3-0d23bb21f635",
   "metadata": {},
   "source": [
    "### Deployment Template\n",
    "\n",
    "We have provided a [deployment template repository](https://github.com/learn-co-students/flask-model-deployment), that allows you to quickly produce a simple webform so people can interact with your model. \n"
   ]
  }
 ],
 "metadata": {
  "kernelspec": {
   "display_name": "Python 3",
   "language": "python",
   "name": "python3"
  },
  "language_info": {
   "codemirror_mode": {
    "name": "ipython",
    "version": 3
   },
   "file_extension": ".py",
   "mimetype": "text/x-python",
   "name": "python",
   "nbconvert_exporter": "python",
   "pygments_lexer": "ipython3",
   "version": "3.8.8"
  }
 },
 "nbformat": 4,
 "nbformat_minor": 5
}
